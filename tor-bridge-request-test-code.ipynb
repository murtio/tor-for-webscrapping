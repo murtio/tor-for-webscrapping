{
 "cells": [
  {
   "cell_type": "code",
   "execution_count": 26,
   "metadata": {},
   "outputs": [
    {
     "name": "stdout",
     "output_type": "stream",
     "text": [
      "{\n",
      "  \"origin\": \"185.220.100.252, 185.220.100.252\"\n",
      "}\n",
      "\n"
     ]
    }
   ],
   "source": [
    "import requests\n",
    "session = requests.session()\n",
    "session.proxies = {}\n",
    "\n",
    "session.proxies['http'] = 'socks5h://localhost:9150'\n",
    "session.proxies['https'] = 'socks5h://localhost:9150'\n",
    "\n",
    "headers = {'User-Agent': 'HotJava/1.1.2 FCS'}\n",
    "\n",
    "\n",
    "r = session.get('http://httpbin.org/ip')\n",
    "print(r.text)"
   ]
  },
  {
   "cell_type": "code",
   "execution_count": 32,
   "metadata": {},
   "outputs": [
    {
     "name": "stdout",
     "output_type": "stream",
     "text": [
      "{\n",
      "  \"origin\": \"54.39.148.234, 54.39.148.234\"\n",
      "}\n",
      "\n"
     ]
    }
   ],
   "source": [
    "r = session.get('http://httpbin.org/ip')\n",
    "print(r.text)"
   ]
  },
  {
   "cell_type": "code",
   "execution_count": 28,
   "metadata": {},
   "outputs": [
    {
     "name": "stdout",
     "output_type": "stream",
     "text": [
      "{\n",
      "  \"user-agent\": \"HotJava/1.1.2 FCS\"\n",
      "}\n",
      "\n"
     ]
    }
   ],
   "source": [
    "r = session.get('https://httpbin.org/user-agent', headers=headers)\n",
    "print(r.text)"
   ]
  },
  {
   "cell_type": "code",
   "execution_count": 31,
   "metadata": {},
   "outputs": [
    {
     "name": "stdout",
     "output_type": "stream",
     "text": [
      "{\n",
      "  \"cookies\": {}\n",
      "}\n",
      "\n"
     ]
    }
   ],
   "source": [
    "r = session.get('http://httpbin.org/cookies')\n",
    "print(r.text)"
   ]
  },
  {
   "cell_type": "code",
   "execution_count": null,
   "metadata": {},
   "outputs": [],
   "source": []
  }
 ],
 "metadata": {
  "kernelspec": {
   "display_name": "Python 3",
   "language": "python",
   "name": "python3"
  },
  "language_info": {
   "codemirror_mode": {
    "name": "ipython",
    "version": 3
   },
   "file_extension": ".py",
   "mimetype": "text/x-python",
   "name": "python",
   "nbconvert_exporter": "python",
   "pygments_lexer": "ipython3",
   "version": "3.6.8"
  }
 },
 "nbformat": 4,
 "nbformat_minor": 2
}
